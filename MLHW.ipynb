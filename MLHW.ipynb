{
 "cells": [
  {
   "cell_type": "code",
   "execution_count": 62,
   "id": "67881113",
   "metadata": {},
   "outputs": [
    {
     "name": "stdout",
     "output_type": "stream",
     "text": [
      "This is Homework 0 for Machine Learning\n",
      "Link to Github Code here:\n",
      "https://github.com/mquadriuncc/MLHW/blob/main/MLHW.ipynb\n"
     ]
    }
   ],
   "source": [
    "print('This is Homework 0 for Machine Learning')\n",
    "print('Link to Github Code here:')\n",
    "print('https://github.com/mquadriuncc/MLHW/blob/main/MLHW.ipynb')"
   ]
  },
  {
   "cell_type": "code",
   "execution_count": 2,
   "id": "3248d2c3",
   "metadata": {},
   "outputs": [
    {
     "name": "stdout",
     "output_type": "stream",
     "text": [
      "Mujeeb Quadri - 9, 17, 2021\n"
     ]
    }
   ],
   "source": [
    "print('Mujeeb Quadri - 9, 17, 2021')"
   ]
  },
  {
   "cell_type": "code",
   "execution_count": 3,
   "id": "33c18417",
   "metadata": {},
   "outputs": [
    {
     "name": "stdout",
     "output_type": "stream",
     "text": [
      "I will give comments for each section, explaining the details.\n"
     ]
    }
   ],
   "source": [
    "print('I will give comments for each section, explaining the details.')"
   ]
  },
  {
   "cell_type": "code",
   "execution_count": 4,
   "id": "fedeb5c9",
   "metadata": {},
   "outputs": [
    {
     "name": "stdout",
     "output_type": "stream",
     "text": [
      "Problem One done here:\n"
     ]
    }
   ],
   "source": [
    "print('Problem One done here:')"
   ]
  },
  {
   "cell_type": "code",
   "execution_count": 5,
   "id": "820e7086",
   "metadata": {},
   "outputs": [
    {
     "name": "stdout",
     "output_type": "stream",
     "text": [
      "We will do three trainings, from the data provided by the D3_csv file\n"
     ]
    }
   ],
   "source": [
    "print('We will do three trainings, from the data provided by the D3_csv file')"
   ]
  },
  {
   "cell_type": "code",
   "execution_count": 6,
   "id": "5007fcfa",
   "metadata": {},
   "outputs": [
    {
     "name": "stdout",
     "output_type": "stream",
     "text": [
      "First training set X1 done here:\n",
      "The first training will be for the data set from X1, the first column.\n",
      "It will explain the ouput (Y), in the fourth column.\n",
      "The learning rate alpha will be set = .01, and the parameters theta = 0.\n",
      "Using this info, linear regression with gradient descent algorithm will be ran here:\n"
     ]
    }
   ],
   "source": [
    "print('First training set X1 done here:')\n",
    "print('The first training will be for the data set from X1, the first column.')\n",
    "print('It will explain the ouput (Y), in the fourth column.')\n",
    "print('The learning rate alpha will be set = .01, and the parameters theta = 0.')\n",
    "print('Using this info, linear regression with gradient descent algorithm will be ran here:')"
   ]
  },
  {
   "cell_type": "code",
   "execution_count": 7,
   "id": "46a03024",
   "metadata": {},
   "outputs": [
    {
     "name": "stdout",
     "output_type": "stream",
     "text": [
      "The libraries and csv file needed for this assignment will be used.\n",
      "This part will not be repeated again.\n"
     ]
    },
    {
     "data": {
      "text/plain": [
       "99"
      ]
     },
     "execution_count": 7,
     "metadata": {},
     "output_type": "execute_result"
    }
   ],
   "source": [
    "print('The libraries and csv file needed for this assignment will be used.')\n",
    "print('This part will not be repeated again.')\n",
    "import numpy as np\n",
    "import pandas as pd\n",
    "import matplotlib.pyplot as plt\n",
    "df = pd.read_csv('https://raw.githubusercontent.com/mquadriuncc/MLHW/main/D3.csv')\n",
    "df.head() # First 5 rows displayed just to show the data is being used.\n",
    "M=len(df) # We will find number of training examples with this.\n",
    "M # We will print the value of training examples."
   ]
  },
  {
   "cell_type": "code",
   "execution_count": 8,
   "id": "bee21278",
   "metadata": {},
   "outputs": [
    {
     "name": "stdout",
     "output_type": "stream",
     "text": [
      "For training set X1:\n"
     ]
    }
   ],
   "source": [
    "print('For training set X1:')"
   ]
  },
  {
   "cell_type": "code",
   "execution_count": 10,
   "id": "932cf3b2",
   "metadata": {},
   "outputs": [
    {
     "name": "stdout",
     "output_type": "stream",
     "text": [
      "X1 =  [0.04040404 0.08080808 0.12121212 0.16161616 0.2020202 ]\n",
      "y =  [2.6796499  2.96848981 3.25406475 3.53637472 3.81541972]\n",
      "m =  99\n"
     ]
    }
   ],
   "source": [
    "X1 = df.values[:, 0] # get input values from first column\n",
    "y = df.values[:, 3] # get output values from fourth column\n",
    "m = len(y) # Number of training examples\n",
    "print('X1 = ', X1[: 5]) # Show only first 5 records\n",
    "print('y = ', y[: 5])\n",
    "print('m = ', m)"
   ]
  },
  {
   "cell_type": "code",
   "execution_count": 11,
   "id": "40b1aead",
   "metadata": {
    "scrolled": true
   },
   "outputs": [
    {
     "name": "stdout",
     "output_type": "stream",
     "text": [
      "X1 =  [0.04040404 0.08080808 0.12121212 0.16161616 0.2020202  0.24242424\n",
      " 0.28282828 0.32323232 0.36363636 0.4040404  0.44444444 0.48484848\n",
      " 0.52525253 0.56565657 0.60606061 0.64646465 0.68686869 0.72727273\n",
      " 0.76767677 0.80808081 0.84848485 0.88888889 0.92929293 0.96969697\n",
      " 1.01010101 1.05050505 1.09090909 1.13131313 1.17171717 1.21212121\n",
      " 1.25252525 1.29292929 1.33333333 1.37373737 1.41414141 1.45454545\n",
      " 1.49494949 1.53535354 1.57575758 1.61616162 1.65656566 1.6969697\n",
      " 1.73737374 1.77777778 1.81818182 1.85858586 1.8989899  1.93939394\n",
      " 1.97979798 2.02020202 2.06060606 2.1010101  2.14141414 2.18181818\n",
      " 2.22222222 2.26262626 2.3030303  2.34343434 2.38383838 2.42424242\n",
      " 2.46464646 2.50505051 2.54545455 2.58585859 2.62626263 2.66666667\n",
      " 2.70707071 2.74747475 2.78787879 2.82828283 2.86868687 2.90909091\n",
      " 2.94949495 2.98989899 3.03030303 3.07070707 3.11111111 3.15151515\n",
      " 3.19191919 3.23232323 3.27272727 3.31313131 3.35353535 3.39393939\n",
      " 3.43434343 3.47474747 3.51515152 3.55555556 3.5959596  3.63636364\n",
      " 3.67676768 3.71717172 3.75757576 3.7979798  3.83838384 3.87878788\n",
      " 3.91919192]\n",
      "y =  [ 2.6796499   2.96848981  3.25406475  3.53637472  3.81541972  4.09119974\n",
      "  2.36371479  3.83296487  4.09894997  4.3616701   4.62112526  4.87731544\n",
      "  3.13024065  3.37990089  3.62629616  3.86942645  5.30929177  5.54589212\n",
      "  3.77922749  4.00929789  4.23610332  4.45964378  4.67991926  2.89692977\n",
      "  3.1106753   4.52115587  4.72837146  4.93232207  5.13300772  3.33042839\n",
      "  3.52458409  3.71547481  3.90310057  4.08746135  5.46855715  3.64638799\n",
      "  3.82095385  3.99225473  4.16029065  4.32506159  4.48656756  2.64480856\n",
      "  2.79978458  4.15149563  4.29994171  4.44512281  2.58703894  2.7256901\n",
      "  2.86107628  2.9931975   3.12205373  3.247645    2.56997129  2.68903261\n",
      "  2.80482896  2.91736034  3.02662674  3.13262817  1.23536462  1.3348361\n",
      "  1.43104261  2.72398415  2.81366071  2.9000723   0.98321892  1.06310057\n",
      "  1.13971724  1.21306894  1.28315566 -0.65002258  0.6135342   0.673826\n",
      "  0.73085284  0.7846147   0.83511159 -1.1176565  -1.07368956 -1.03298759\n",
      " -0.99555059  0.23862143  0.26952848 -1.70282944 -1.67845234 -1.6573402\n",
      " -1.63949305 -1.62491086 -1.61359365 -3.60554141 -2.40075414 -2.39923185\n",
      " -2.40097453 -2.40598218 -4.41425481 -4.4257924  -4.44059497 -4.45866252\n",
      " -4.47999504]\n",
      "m =  99\n"
     ]
    }
   ],
   "source": [
    "X1 = df.values[:, 0] # get input values from first column\n",
    "y = df.values[:, 3] # get output values from fourth column\n",
    "m = len(y) # Number of training examples\n",
    "print('X1 = ', X1[: 97]) # Show only first 5 records\n",
    "print('y = ', y[: 97])\n",
    "print('m = ', m)"
   ]
  },
  {
   "cell_type": "code",
   "execution_count": 13,
   "id": "cc9bffda",
   "metadata": {},
   "outputs": [
    {
     "data": {
      "text/plain": [
       "Text(0.5, 1.0, 'Scatter plot of training data')"
      ]
     },
     "execution_count": 13,
     "metadata": {},
     "output_type": "execute_result"
    },
    {
     "data": {
      "image/png": "[encoded data removed]",
      "text/plain": [
       "<Figure size 432x288 with 1 Axes>"
      ]
     },
     "metadata": {
      "needs_background": "light"
     },
     "output_type": "display_data"
    }
   ],
   "source": [
    "plt.scatter(X1,y, color='red',marker= '+')\n",
    "plt.grid()\n",
    "plt.rcParams[\"figure.figsize\"] = (10,6)\n",
    "plt.xlabel('Population of City in 10,000s')\n",
    "plt.ylabel('Profit in $10,000s')\n",
    "plt.title('Scatter plot of training data')"
   ]
  },
  {
   "cell_type": "code",
   "execution_count": 14,
   "id": "4a7a5c1f",
   "metadata": {},
   "outputs": [
    {
     "data": {
      "text/plain": [
       "array([[1.],\n",
       "       [1.],\n",
       "       [1.],\n",
       "       [1.],\n",
       "       [1.]])"
      ]
     },
     "execution_count": 14,
     "metadata": {},
     "output_type": "execute_result"
    }
   ],
   "source": [
    "#Lets create a matrix with single column of ones\n",
    "X1_0 = np.ones((m, 1))\n",
    "X1_0[:5]"
   ]
  },
  {
   "cell_type": "code",
   "execution_count": 15,
   "id": "c26543f3",
   "metadata": {},
   "outputs": [
    {
     "data": {
      "text/plain": [
       "array([[0.04040404],\n",
       "       [0.08080808],\n",
       "       [0.12121212],\n",
       "       [0.16161616],\n",
       "       [0.2020202 ],\n",
       "       [0.24242424],\n",
       "       [0.28282828],\n",
       "       [0.32323232],\n",
       "       [0.36363636],\n",
       "       [0.4040404 ]])"
      ]
     },
     "execution_count": 15,
     "metadata": {},
     "output_type": "execute_result"
    }
   ],
   "source": [
    "# Using reshape function convert X 1D array to 2D array of dimension 97x1\n",
    "X1_1 = X1.reshape(m, 1)\n",
    "X1_1[:10]"
   ]
  },
  {
   "cell_type": "code",
   "execution_count": 16,
   "id": "5d697ddd",
   "metadata": {},
   "outputs": [
    {
     "data": {
      "text/plain": [
       "array([[1.        , 0.04040404],\n",
       "       [1.        , 0.08080808],\n",
       "       [1.        , 0.12121212],\n",
       "       [1.        , 0.16161616],\n",
       "       [1.        , 0.2020202 ]])"
      ]
     },
     "execution_count": 16,
     "metadata": {},
     "output_type": "execute_result"
    }
   ],
   "source": [
    "# Lets use hstack() function from numpy to stack\n",
    "# This will be our final X matrix (feature matrix)\n",
    "X1 = np.hstack((X1_0, X1_1))\n",
    "X1[:5]"
   ]
  },
  {
   "cell_type": "code",
   "execution_count": 17,
   "id": "08df0d3b",
   "metadata": {},
   "outputs": [
    {
     "data": {
      "text/plain": [
       "array([0., 0.])"
      ]
     },
     "execution_count": 17,
     "metadata": {},
     "output_type": "execute_result"
    }
   ],
   "source": [
    "theta = np.zeros(2)\n",
    "theta"
   ]
  },
  {
   "cell_type": "code",
   "execution_count": 18,
   "id": "e69b5dbc",
   "metadata": {},
   "outputs": [],
   "source": [
    "def compute_cost(X1, y, theta):\n",
    " \"\"\"\n",
    " Compute cost for linear regression.\n",
    " Input Parameters\n",
    " ----------------\n",
    " X1 : 2D array where each row represent the training example and each column represent\n",
    " m= number of training examples\n",
    " n= number of features (including X1_0 column of ones)\n",
    " y : 1D array of labels/target value for each traing example. dimension(1 x m)\n",
    " theta : 1D array of fitting parameters or weights. Dimension (1 x n)\n",
    " Output Parameters\n",
    " -----------------\n",
    " J : Scalar value.\n",
    " \"\"\"\n",
    " predictions = X1.dot(theta)\n",
    " errors = np.subtract(predictions, y)\n",
    " sqrErrors = np.square(errors)\n",
    " J = 1 / (2 * m) * np.sum(sqrErrors)\n",
    " return J"
   ]
  },
  {
   "cell_type": "code",
   "execution_count": 19,
   "id": "fff94321",
   "metadata": {},
   "outputs": [
    {
     "name": "stdout",
     "output_type": "stream",
     "text": [
      "The cost for given values of theta_0 and theta_1 = 5.483015861682611\n"
     ]
    }
   ],
   "source": [
    "# Lets compute the cost for theta values\n",
    "cost = compute_cost(X1, y, theta)\n",
    "print('The cost for given values of theta_0 and theta_1 =', cost)"
   ]
  },
  {
   "cell_type": "code",
   "execution_count": 20,
   "id": "dab6495b",
   "metadata": {},
   "outputs": [],
   "source": [
    "def gradient_descent(X1, y, theta, alpha, iterations):\n",
    " \"\"\"\n",
    " Compute cost for linear regression.\n",
    " Input Parameters\n",
    " ----------------\n",
    " X1 : 2D array where each row represent the training example and each column represent\n",
    " m= number of training examples\n",
    " n= number of features (including X1_0 column of ones)\n",
    " y : 1D array of labels/target value for each traing example. dimension(m x 1)\n",
    " theta : 1D array of fitting parameters or weights. Dimension (1 x n)\n",
    " alpha : Learning rate. Scalar value\n",
    " iterations: No of iterations. Scalar value.\n",
    " Output Parameters\n",
    " -----------------\n",
    " theta : Final Value. 1D array of fitting parameters or weights. Dimension (1 x n)\n",
    " cost_history: Conatins value of cost for each iteration. 1D array. Dimansion(m x 1)\n",
    "  \"\"\"\n",
    " cost_history = np.zeros(iterations)\n",
    " for i in range(iterations):\n",
    "     predictions = X1.dot(theta)\n",
    "     errors = np.subtract(predictions, y)\n",
    "     sum_delta = (alpha / m) * X1.transpose().dot(errors);\n",
    "     theta = theta - sum_delta;\n",
    "     cost_history[i] = compute_cost(X1, y, theta)\n",
    " return theta, cost_history"
   ]
  },
  {
   "cell_type": "code",
   "execution_count": 21,
   "id": "02b4d099",
   "metadata": {},
   "outputs": [],
   "source": [
    "theta = [0., 0.]\n",
    "iterations = 1500;\n",
    "alpha = 0.01;"
   ]
  },
  {
   "cell_type": "code",
   "execution_count": 22,
   "id": "e5cd74fa",
   "metadata": {},
   "outputs": [
    {
     "name": "stdout",
     "output_type": "stream",
     "text": [
      "Final value of theta = [ 5.75752967 -1.97114532]\n",
      "cost_history = [5.4416155  5.40304386 5.36697031 ... 0.98927932 0.98925005 0.98922091]\n"
     ]
    }
   ],
   "source": [
    "theta, cost_history = gradient_descent(X1, y, theta, alpha, iterations)\n",
    "print('Final value of theta =', theta)\n",
    "print('cost_history =', cost_history)"
   ]
  },
  {
   "cell_type": "code",
   "execution_count": 23,
   "id": "99ed8f1d",
   "metadata": {},
   "outputs": [
    {
     "data": {
      "text/plain": [
       "<matplotlib.legend.Legend at 0x1fc46b42430>"
      ]
     },
     "execution_count": 23,
     "metadata": {},
     "output_type": "execute_result"
    },
    {
     "data": {
      "image/png": "[encoded data removed]",
      "text/plain": [
       "<Figure size 720x432 with 1 Axes>"
      ]
     },
     "metadata": {
      "needs_background": "light"
     },
     "output_type": "display_data"
    }
   ],
   "source": [
    "# Since X1 is list of list (feature matrix) lets take values of column of index 1 only\n",
    "plt.scatter(X1[:,1], y, color='red', marker= '+', label= 'Training Data')\n",
    "plt.plot(X1[:,1],X1.dot(theta), color='green', label='Linear Regression')\n",
    "plt.rcParams[\"figure.figsize\"] = (10,6)\n",
    "plt.grid()\n",
    "plt.xlabel('Population of City in 10,000s')\n",
    "plt.ylabel('Profit in $10,000s')\n",
    "plt.title('Linear Regression Fit')\n",
    "plt.legend()"
   ]
  },
  {
   "cell_type": "code",
   "execution_count": 24,
   "id": "52d01cec",
   "metadata": {},
   "outputs": [
    {
     "data": {
      "text/plain": [
       "Text(0.5, 1.0, 'Convergence of gradient descent')"
      ]
     },
     "execution_count": 24,
     "metadata": {},
     "output_type": "execute_result"
    },
    {
     "data": {
      "image/png": "[encoded data removed]",
      "text/plain": [
       "<Figure size 720x432 with 1 Axes>"
      ]
     },
     "metadata": {
      "needs_background": "light"
     },
     "output_type": "display_data"
    }
   ],
   "source": [
    "plt.plot(range(1, iterations + 1),cost_history, color='blue')\n",
    "plt.rcParams[\"figure.figsize\"] = (10,6)\n",
    "plt.grid()\n",
    "plt.xlabel('Number of iterations')\n",
    "plt.ylabel('Cost (J)')\n",
    "plt.title('Convergence of gradient descent')"
   ]
  },
  {
   "cell_type": "code",
   "execution_count": 25,
   "id": "206283b4",
   "metadata": {},
   "outputs": [
    {
     "name": "stdout",
     "output_type": "stream",
     "text": [
      "Training set X2 done here, where alpha = .05\n"
     ]
    }
   ],
   "source": [
    "print('Training set X2 done here, where alpha = .05')"
   ]
  },
  {
   "cell_type": "code",
   "execution_count": 26,
   "id": "b83e9a95",
   "metadata": {},
   "outputs": [
    {
     "name": "stdout",
     "output_type": "stream",
     "text": [
      "X2 =  [0.04040404 0.08080808 0.12121212 0.16161616 0.2020202 ]\n",
      "y =  [2.6796499  2.96848981 3.25406475 3.53637472 3.81541972]\n",
      "m =  99\n"
     ]
    }
   ],
   "source": [
    "X2 = df.values[:, 0] # get input values from second column\n",
    "y = df.values[:, 3] # get output values from fourth column\n",
    "m = len(y) # Number of training examples\n",
    "print('X2 = ', X2[: 5]) # Show only first 5 records\n",
    "print('y = ', y[: 5])\n",
    "print('m = ', m)"
   ]
  },
  {
   "cell_type": "code",
   "execution_count": 27,
   "id": "596558ea",
   "metadata": {},
   "outputs": [
    {
     "name": "stdout",
     "output_type": "stream",
     "text": [
      "X2 =  [0.04040404 0.08080808 0.12121212 0.16161616 0.2020202  0.24242424\n",
      " 0.28282828 0.32323232 0.36363636 0.4040404  0.44444444 0.48484848\n",
      " 0.52525253 0.56565657 0.60606061 0.64646465 0.68686869 0.72727273\n",
      " 0.76767677 0.80808081 0.84848485 0.88888889 0.92929293 0.96969697\n",
      " 1.01010101 1.05050505 1.09090909 1.13131313 1.17171717 1.21212121\n",
      " 1.25252525 1.29292929 1.33333333 1.37373737 1.41414141 1.45454545\n",
      " 1.49494949 1.53535354 1.57575758 1.61616162 1.65656566 1.6969697\n",
      " 1.73737374 1.77777778 1.81818182 1.85858586 1.8989899  1.93939394\n",
      " 1.97979798 2.02020202 2.06060606 2.1010101  2.14141414 2.18181818\n",
      " 2.22222222 2.26262626 2.3030303  2.34343434 2.38383838 2.42424242\n",
      " 2.46464646 2.50505051 2.54545455 2.58585859 2.62626263 2.66666667\n",
      " 2.70707071 2.74747475 2.78787879 2.82828283 2.86868687 2.90909091\n",
      " 2.94949495 2.98989899 3.03030303 3.07070707 3.11111111 3.15151515\n",
      " 3.19191919 3.23232323 3.27272727 3.31313131 3.35353535 3.39393939\n",
      " 3.43434343 3.47474747 3.51515152 3.55555556 3.5959596  3.63636364\n",
      " 3.67676768 3.71717172 3.75757576 3.7979798  3.83838384 3.87878788\n",
      " 3.91919192]\n",
      "y =  [ 2.6796499   2.96848981  3.25406475  3.53637472  3.81541972  4.09119974\n",
      "  2.36371479  3.83296487  4.09894997  4.3616701   4.62112526  4.87731544\n",
      "  3.13024065  3.37990089  3.62629616  3.86942645  5.30929177  5.54589212\n",
      "  3.77922749  4.00929789  4.23610332  4.45964378  4.67991926  2.89692977\n",
      "  3.1106753   4.52115587  4.72837146  4.93232207  5.13300772  3.33042839\n",
      "  3.52458409  3.71547481  3.90310057  4.08746135  5.46855715  3.64638799\n",
      "  3.82095385  3.99225473  4.16029065  4.32506159  4.48656756  2.64480856\n",
      "  2.79978458  4.15149563  4.29994171  4.44512281  2.58703894  2.7256901\n",
      "  2.86107628  2.9931975   3.12205373  3.247645    2.56997129  2.68903261\n",
      "  2.80482896  2.91736034  3.02662674  3.13262817  1.23536462  1.3348361\n",
      "  1.43104261  2.72398415  2.81366071  2.9000723   0.98321892  1.06310057\n",
      "  1.13971724  1.21306894  1.28315566 -0.65002258  0.6135342   0.673826\n",
      "  0.73085284  0.7846147   0.83511159 -1.1176565  -1.07368956 -1.03298759\n",
      " -0.99555059  0.23862143  0.26952848 -1.70282944 -1.67845234 -1.6573402\n",
      " -1.63949305 -1.62491086 -1.61359365 -3.60554141 -2.40075414 -2.39923185\n",
      " -2.40097453 -2.40598218 -4.41425481 -4.4257924  -4.44059497 -4.45866252\n",
      " -4.47999504]\n",
      "m =  99\n"
     ]
    }
   ],
   "source": [
    "X2 = df.values[:, 0] # get input values from second column\n",
    "y = df.values[:, 3] # get output values from fourth column\n",
    "m = len(y) # Number of training examples\n",
    "print('X2 = ', X2[: 97]) # Show only first 5 records\n",
    "print('y = ', y[: 97])\n",
    "print('m = ', m)"
   ]
  },
  {
   "cell_type": "code",
   "execution_count": 28,
   "id": "669d02db",
   "metadata": {},
   "outputs": [
    {
     "data": {
      "text/plain": [
       "Text(0.5, 1.0, 'Scatter plot of training data')"
      ]
     },
     "execution_count": 28,
     "metadata": {},
     "output_type": "execute_result"
    },
    {
     "data": {
      "image/png": "[encoded data removed]",
      "text/plain": [
       "<Figure size 720x432 with 1 Axes>"
      ]
     },
     "metadata": {
      "needs_background": "light"
     },
     "output_type": "display_data"
    }
   ],
   "source": [
    "plt.scatter(X2,y, color='red',marker= '+')\n",
    "plt.grid()\n",
    "plt.rcParams[\"figure.figsize\"] = (10,6)\n",
    "plt.xlabel('Population of City in 10,000s')\n",
    "plt.ylabel('Profit in $10,000s')\n",
    "plt.title('Scatter plot of training data')"
   ]
  },
  {
   "cell_type": "code",
   "execution_count": 29,
   "id": "298dd52f",
   "metadata": {},
   "outputs": [
    {
     "data": {
      "text/plain": [
       "array([[1.],\n",
       "       [1.],\n",
       "       [1.],\n",
       "       [1.],\n",
       "       [1.]])"
      ]
     },
     "execution_count": 29,
     "metadata": {},
     "output_type": "execute_result"
    }
   ],
   "source": [
    "#Lets create a matrix with single column of ones\n",
    "X2_0 = np.ones((m, 1))\n",
    "X2_0[:5]"
   ]
  },
  {
   "cell_type": "code",
   "execution_count": 31,
   "id": "50c00949",
   "metadata": {},
   "outputs": [
    {
     "data": {
      "text/plain": [
       "array([[0.04040404],\n",
       "       [0.08080808],\n",
       "       [0.12121212],\n",
       "       [0.16161616],\n",
       "       [0.2020202 ],\n",
       "       [0.24242424],\n",
       "       [0.28282828],\n",
       "       [0.32323232],\n",
       "       [0.36363636],\n",
       "       [0.4040404 ]])"
      ]
     },
     "execution_count": 31,
     "metadata": {},
     "output_type": "execute_result"
    }
   ],
   "source": [
    "# Using reshape function convert X 1D array to 2D array of dimension 97x1\n",
    "X2_1 = X2.reshape(m, 1)\n",
    "X2_1[:10]"
   ]
  },
  {
   "cell_type": "code",
   "execution_count": 32,
   "id": "dbef35f5",
   "metadata": {},
   "outputs": [
    {
     "data": {
      "text/plain": [
       "array([[1.        , 0.04040404],\n",
       "       [1.        , 0.08080808],\n",
       "       [1.        , 0.12121212],\n",
       "       [1.        , 0.16161616],\n",
       "       [1.        , 0.2020202 ]])"
      ]
     },
     "execution_count": 32,
     "metadata": {},
     "output_type": "execute_result"
    }
   ],
   "source": [
    "# Lets use hstack() function from numpy to stack\n",
    "# This will be our final X matrix (feature matrix)\n",
    "X2 = np.hstack((X2_0, X2_1))\n",
    "X2[:5]"
   ]
  },
  {
   "cell_type": "code",
   "execution_count": 33,
   "id": "699b3dcd",
   "metadata": {},
   "outputs": [
    {
     "data": {
      "text/plain": [
       "array([0., 0.])"
      ]
     },
     "execution_count": 33,
     "metadata": {},
     "output_type": "execute_result"
    }
   ],
   "source": [
    "theta = np.zeros(2)\n",
    "theta"
   ]
  },
  {
   "cell_type": "code",
   "execution_count": 34,
   "id": "ee648ee0",
   "metadata": {},
   "outputs": [],
   "source": [
    "def compute_cost(X2, y, theta):\n",
    " \"\"\"\n",
    " Compute cost for linear regression.\n",
    " Input Parameters\n",
    " ----------------\n",
    " X2 : 2D array where each row represent the training example and each column represent\n",
    " m= number of training examples\n",
    " n= number of features (including X2_0 column of ones)\n",
    " y : 1D array of labels/target value for each traing example. dimension(1 x m)\n",
    " theta : 1D array of fitting parameters or weights. Dimension (1 x n)\n",
    " Output Parameters\n",
    " -----------------\n",
    " J : Scalar value.\n",
    " \"\"\"\n",
    " predictions = X2.dot(theta)\n",
    " errors = np.subtract(predictions, y)\n",
    " sqrErrors = np.square(errors)\n",
    " J = 1 / (2 * m) * np.sum(sqrErrors)\n",
    " return J"
   ]
  },
  {
   "cell_type": "code",
   "execution_count": 35,
   "id": "8c638f97",
   "metadata": {},
   "outputs": [
    {
     "name": "stdout",
     "output_type": "stream",
     "text": [
      "The cost for given values of theta_0 and theta_1 = 5.483015861682611\n"
     ]
    }
   ],
   "source": [
    "# Lets compute the cost for theta values\n",
    "cost = compute_cost(X2, y, theta)\n",
    "print('The cost for given values of theta_0 and theta_1 =', cost)"
   ]
  },
  {
   "cell_type": "code",
   "execution_count": 36,
   "id": "85e7843a",
   "metadata": {},
   "outputs": [],
   "source": [
    "def gradient_descent(X2, y, theta, alpha, iterations):\n",
    " \"\"\"\n",
    " Compute cost for linear regression.\n",
    " Input Parameters\n",
    " ----------------\n",
    " X2 : 2D array where each row represent the training example and each column represent\n",
    " m= number of training examples\n",
    " n= number of features (including X2_0 column of ones)\n",
    " y : 1D array of labels/target value for each traing example. dimension(m x 1)\n",
    " theta : 1D array of fitting parameters or weights. Dimension (1 x n)\n",
    " alpha : Learning rate. Scalar value\n",
    " iterations: No of iterations. Scalar value.\n",
    " Output Parameters\n",
    " -----------------\n",
    " theta : Final Value. 1D array of fitting parameters or weights. Dimension (1 x n)\n",
    " cost_history: Conatins value of cost for each iteration. 1D array. Dimansion(m x 1)\n",
    "  \"\"\"\n",
    " cost_history = np.zeros(iterations)\n",
    " for i in range(iterations):\n",
    "     predictions = X2.dot(theta)\n",
    "     errors = np.subtract(predictions, y)\n",
    "     sum_delta = (alpha / m) * X2.transpose().dot(errors);\n",
    "     theta = theta - sum_delta;\n",
    "     cost_history[i] = compute_cost(X2, y, theta)\n",
    " return theta, cost_history"
   ]
  },
  {
   "cell_type": "code",
   "execution_count": 37,
   "id": "9e171472",
   "metadata": {},
   "outputs": [],
   "source": [
    "theta = [0., 0.]\n",
    "iterations = 1500;\n",
    "alpha = 0.05;"
   ]
  },
  {
   "cell_type": "code",
   "execution_count": 38,
   "id": "6d5afa93",
   "metadata": {},
   "outputs": [
    {
     "name": "stdout",
     "output_type": "stream",
     "text": [
      "Final value of theta = [ 5.99113956 -2.06191404]\n",
      "cost_history = [5.291052   5.15332621 5.0424164  ... 0.98246683 0.98246683 0.98246683]\n"
     ]
    }
   ],
   "source": [
    "theta, cost_history = gradient_descent(X2, y, theta, alpha, iterations)\n",
    "print('Final value of theta =', theta)\n",
    "print('cost_history =', cost_history)"
   ]
  },
  {
   "cell_type": "code",
   "execution_count": 39,
   "id": "d0b9d0bf",
   "metadata": {},
   "outputs": [
    {
     "data": {
      "text/plain": [
       "<matplotlib.legend.Legend at 0x1fc46c33280>"
      ]
     },
     "execution_count": 39,
     "metadata": {},
     "output_type": "execute_result"
    },
    {
     "data": {
      "image/png": "[encoded data removed]",
      "text/plain": [
       "<Figure size 720x432 with 1 Axes>"
      ]
     },
     "metadata": {
      "needs_background": "light"
     },
     "output_type": "display_data"
    }
   ],
   "source": [
    "# Since X2 is list of list (feature matrix) lets take values of column of index 1 only\n",
    "plt.scatter(X2[:,1], y, color='red', marker= '+', label= 'Training Data')\n",
    "plt.plot(X2[:,1],X2.dot(theta), color='green', label='Linear Regression')\n",
    "plt.rcParams[\"figure.figsize\"] = (10,6)\n",
    "plt.grid()\n",
    "plt.xlabel('Population of City in 10,000s')\n",
    "plt.ylabel('Profit in $10,000s')\n",
    "plt.title('Linear Regression Fit')\n",
    "plt.legend()"
   ]
  },
  {
   "cell_type": "code",
   "execution_count": 40,
   "id": "d5010847",
   "metadata": {},
   "outputs": [
    {
     "data": {
      "text/plain": [
       "Text(0.5, 1.0, 'Convergence of gradient descent')"
      ]
     },
     "execution_count": 40,
     "metadata": {},
     "output_type": "execute_result"
    },
    {
     "data": {
      "image/png": "[encoded data removed]",
      "text/plain": [
       "<Figure size 720x432 with 1 Axes>"
      ]
     },
     "metadata": {
      "needs_background": "light"
     },
     "output_type": "display_data"
    }
   ],
   "source": [
    "plt.plot(range(1, iterations + 1),cost_history, color='blue')\n",
    "plt.rcParams[\"figure.figsize\"] = (10,6)\n",
    "plt.grid()\n",
    "plt.xlabel('Number of iterations')\n",
    "plt.ylabel('Cost (J)')\n",
    "plt.title('Convergence of gradient descent')"
   ]
  },
  {
   "cell_type": "code",
   "execution_count": 41,
   "id": "973c22e1",
   "metadata": {},
   "outputs": [
    {
     "name": "stdout",
     "output_type": "stream",
     "text": [
      "Training set X3 done here, where alpha = 0.9\n"
     ]
    }
   ],
   "source": [
    "print('Training set X3 done here, where alpha = 0.9')"
   ]
  },
  {
   "cell_type": "code",
   "execution_count": 42,
   "id": "5c0f6fe1",
   "metadata": {},
   "outputs": [
    {
     "name": "stdout",
     "output_type": "stream",
     "text": [
      "X3 =  [0.88848485 1.3369697  1.78545455 2.23393939 2.68242424]\n",
      "y =  [2.6796499  2.96848981 3.25406475 3.53637472 3.81541972]\n",
      "m =  99\n"
     ]
    }
   ],
   "source": [
    "X3 = df.values[:, 2] # get input values from third column\n",
    "y = df.values[:, 3] # get output values from fourth column\n",
    "m = len(y) # Number of training examples\n",
    "print('X3 = ', X3[: 5]) # Show only first 5 records\n",
    "print('y = ', y[: 5])\n",
    "print('m = ', m)"
   ]
  },
  {
   "cell_type": "code",
   "execution_count": 43,
   "id": "83b49094",
   "metadata": {},
   "outputs": [
    {
     "name": "stdout",
     "output_type": "stream",
     "text": [
      "X3 =  [0.88848485 1.3369697  1.78545455 2.23393939 2.68242424 3.13090909\n",
      " 3.57939394 0.02787879 0.47636364 0.92484848 1.37333333 1.82181818\n",
      " 2.27030303 2.71878788 3.16727273 3.61575758 0.06424242 0.51272727\n",
      " 0.96121212 1.40969697 1.85818182 2.30666667 2.75515152 3.20363636\n",
      " 3.65212121 0.10060606 0.54909091 0.99757576 1.44606061 1.89454545\n",
      " 2.3430303  2.79151515 3.24       3.68848485 0.1369697  0.58545455\n",
      " 1.03393939 1.48242424 1.93090909 2.37939394 2.82787879 3.27636364\n",
      " 3.72484848 0.17333333 0.62181818 1.07030303 1.51878788 1.96727273\n",
      " 2.41575758 2.86424242 3.31272727 3.76121212 0.20969697 0.65818182\n",
      " 1.10666667 1.55515152 2.00363636 2.45212121 2.90060606 3.34909091\n",
      " 3.79757576 0.24606061 0.69454545 1.1430303  1.59151515 2.04\n",
      " 2.48848485 2.9369697  3.38545455 3.83393939 0.28242424 0.73090909\n",
      " 1.17939394 1.62787879 2.07636364 2.52484848 2.97333333 3.42181818\n",
      " 3.87030303 0.31878788 0.76727273 1.21575758 1.66424242 2.11272727\n",
      " 2.56121212 3.00969697 3.45818182 3.90666667 0.35515152 0.80363636\n",
      " 1.25212121 1.70060606 2.14909091 2.59757576 3.04606061 3.49454545\n",
      " 3.9430303 ]\n",
      "y =  [ 2.6796499   2.96848981  3.25406475  3.53637472  3.81541972  4.09119974\n",
      "  2.36371479  3.83296487  4.09894997  4.3616701   4.62112526  4.87731544\n",
      "  3.13024065  3.37990089  3.62629616  3.86942645  5.30929177  5.54589212\n",
      "  3.77922749  4.00929789  4.23610332  4.45964378  4.67991926  2.89692977\n",
      "  3.1106753   4.52115587  4.72837146  4.93232207  5.13300772  3.33042839\n",
      "  3.52458409  3.71547481  3.90310057  4.08746135  5.46855715  3.64638799\n",
      "  3.82095385  3.99225473  4.16029065  4.32506159  4.48656756  2.64480856\n",
      "  2.79978458  4.15149563  4.29994171  4.44512281  2.58703894  2.7256901\n",
      "  2.86107628  2.9931975   3.12205373  3.247645    2.56997129  2.68903261\n",
      "  2.80482896  2.91736034  3.02662674  3.13262817  1.23536462  1.3348361\n",
      "  1.43104261  2.72398415  2.81366071  2.9000723   0.98321892  1.06310057\n",
      "  1.13971724  1.21306894  1.28315566 -0.65002258  0.6135342   0.673826\n",
      "  0.73085284  0.7846147   0.83511159 -1.1176565  -1.07368956 -1.03298759\n",
      " -0.99555059  0.23862143  0.26952848 -1.70282944 -1.67845234 -1.6573402\n",
      " -1.63949305 -1.62491086 -1.61359365 -3.60554141 -2.40075414 -2.39923185\n",
      " -2.40097453 -2.40598218 -4.41425481 -4.4257924  -4.44059497 -4.45866252\n",
      " -4.47999504]\n",
      "m =  99\n"
     ]
    }
   ],
   "source": [
    "X3 = df.values[:, 2] # get input values from third column\n",
    "y = df.values[:, 3] # get output values from fourth column\n",
    "m = len(y) # Number of training examples\n",
    "print('X3 = ', X3[: 97]) # Show only first 5 records\n",
    "print('y = ', y[: 97])\n",
    "print('m = ', m)"
   ]
  },
  {
   "cell_type": "code",
   "execution_count": 44,
   "id": "fc6963ac",
   "metadata": {},
   "outputs": [
    {
     "data": {
      "text/plain": [
       "Text(0.5, 1.0, 'Scatter plot of training data')"
      ]
     },
     "execution_count": 44,
     "metadata": {},
     "output_type": "execute_result"
    },
    {
     "data": {
      "image/png": "[encoded data removed]",
      "text/plain": [
       "<Figure size 720x432 with 1 Axes>"
      ]
     },
     "metadata": {
      "needs_background": "light"
     },
     "output_type": "display_data"
    }
   ],
   "source": [
    "plt.scatter(X3,y, color='red',marker= '+')\n",
    "plt.grid()\n",
    "plt.rcParams[\"figure.figsize\"] = (10,6)\n",
    "plt.xlabel('Population of City in 10,000s')\n",
    "plt.ylabel('Profit in $10,000s')\n",
    "plt.title('Scatter plot of training data')"
   ]
  },
  {
   "cell_type": "code",
   "execution_count": 45,
   "id": "2f6266d1",
   "metadata": {},
   "outputs": [
    {
     "data": {
      "text/plain": [
       "array([[1.],\n",
       "       [1.],\n",
       "       [1.],\n",
       "       [1.],\n",
       "       [1.]])"
      ]
     },
     "execution_count": 45,
     "metadata": {},
     "output_type": "execute_result"
    }
   ],
   "source": [
    "#Lets create a matrix with single column of ones\n",
    "X3_0 = np.ones((m, 1))\n",
    "X3_0[:5]"
   ]
  },
  {
   "cell_type": "code",
   "execution_count": 46,
   "id": "4bbbc93d",
   "metadata": {},
   "outputs": [
    {
     "data": {
      "text/plain": [
       "array([[0.88848485],\n",
       "       [1.3369697 ],\n",
       "       [1.78545455],\n",
       "       [2.23393939],\n",
       "       [2.68242424],\n",
       "       [3.13090909],\n",
       "       [3.57939394],\n",
       "       [0.02787879],\n",
       "       [0.47636364],\n",
       "       [0.92484848]])"
      ]
     },
     "execution_count": 46,
     "metadata": {},
     "output_type": "execute_result"
    }
   ],
   "source": [
    "# Using reshape function convert X 1D array to 2D array of dimension 97x1\n",
    "X3_1 = X3.reshape(m, 1)\n",
    "X3_1[:10]"
   ]
  },
  {
   "cell_type": "code",
   "execution_count": 47,
   "id": "0c501005",
   "metadata": {},
   "outputs": [
    {
     "data": {
      "text/plain": [
       "array([[1.        , 0.88848485],\n",
       "       [1.        , 1.3369697 ],\n",
       "       [1.        , 1.78545455],\n",
       "       [1.        , 2.23393939],\n",
       "       [1.        , 2.68242424]])"
      ]
     },
     "execution_count": 47,
     "metadata": {},
     "output_type": "execute_result"
    }
   ],
   "source": [
    "# Lets use hstack() function from numpy to stack\n",
    "# This will be our final X matrix (feature matrix)\n",
    "X3 = np.hstack((X3_0, X3_1))\n",
    "X3[:5]"
   ]
  },
  {
   "cell_type": "code",
   "execution_count": 48,
   "id": "72feca0a",
   "metadata": {},
   "outputs": [
    {
     "data": {
      "text/plain": [
       "array([0., 0.])"
      ]
     },
     "execution_count": 48,
     "metadata": {},
     "output_type": "execute_result"
    }
   ],
   "source": [
    "theta = np.zeros(2)\n",
    "theta"
   ]
  },
  {
   "cell_type": "code",
   "execution_count": 49,
   "id": "828fca90",
   "metadata": {},
   "outputs": [],
   "source": [
    "def compute_cost(X3, y, theta):\n",
    " \"\"\"\n",
    " Compute cost for linear regression.\n",
    " Input Parameters\n",
    " ----------------\n",
    " X3 : 2D array where each row represent the training example and each column represent\n",
    " m= number of training examples\n",
    " n= number of features (including X3_0 column of ones)\n",
    " y : 1D array of labels/target value for each traing example. dimension(1 x m)\n",
    " theta : 1D array of fitting parameters or weights. Dimension (1 x n)\n",
    " Output Parameters\n",
    " -----------------\n",
    " J : Scalar value.\n",
    " \"\"\"\n",
    " predictions = X3.dot(theta)\n",
    " errors = np.subtract(predictions, y)\n",
    " sqrErrors = np.square(errors)\n",
    " J = 1 / (2 * m) * np.sum(sqrErrors)\n",
    " return J"
   ]
  },
  {
   "cell_type": "code",
   "execution_count": 50,
   "id": "444d7f13",
   "metadata": {},
   "outputs": [
    {
     "name": "stdout",
     "output_type": "stream",
     "text": [
      "The cost for given values of theta_0 and theta_1 = 5.483015861682611\n"
     ]
    }
   ],
   "source": [
    "# Lets compute the cost for theta values\n",
    "cost = compute_cost(X3, y, theta)\n",
    "print('The cost for given values of theta_0 and theta_1 =', cost)"
   ]
  },
  {
   "cell_type": "code",
   "execution_count": 52,
   "id": "d35626ca",
   "metadata": {},
   "outputs": [],
   "source": [
    "def gradient_descent(X3, y, theta, alpha, iterations):\n",
    " \"\"\"\n",
    " Compute cost for linear regression.\n",
    " Input Parameters\n",
    " ----------------\n",
    " X3 : 2D array where each row represent the training example and each column represent\n",
    " m= number of training examples\n",
    " n= number of features (including X3_0 column of ones)\n",
    " y : 1D array of labels/target value for each traing example. dimension(m x 1)\n",
    " theta : 1D array of fitting parameters or weights. Dimension (1 x n)\n",
    " alpha : Learning rate. Scalar value\n",
    " iterations: No of iterations. Scalar value.\n",
    " Output Parameters\n",
    " -----------------\n",
    " theta : Final Value. 1D array of fitting parameters or weights. Dimension (1 x n)\n",
    " cost_history: Conatins value of cost for each iteration. 1D array. Dimansion(m x 1)\n",
    "  \"\"\"\n",
    " cost_history = np.zeros(iterations)\n",
    " for i in range(iterations):\n",
    "     predictions = X3.dot(theta)\n",
    "     errors = np.subtract(predictions, y)\n",
    "     sum_delta = (alpha / m) * X3.transpose().dot(errors);\n",
    "     theta = theta - sum_delta;\n",
    "     cost_history[i] = compute_cost(X3, y, theta)\n",
    " return theta, cost_history"
   ]
  },
  {
   "cell_type": "code",
   "execution_count": 53,
   "id": "6607a797",
   "metadata": {},
   "outputs": [],
   "source": [
    "theta = [0., 0.]\n",
    "iterations = 1500;\n",
    "alpha = 0.09;"
   ]
  },
  {
   "cell_type": "code",
   "execution_count": 54,
   "id": "f63e8a33",
   "metadata": {},
   "outputs": [
    {
     "name": "stdout",
     "output_type": "stream",
     "text": [
      "Final value of theta = [ 2.81356727 -0.50011833]\n",
      "cost_history = [4.68699771 4.49358056 4.42819077 ... 3.6503     3.6503     3.6503    ]\n"
     ]
    }
   ],
   "source": [
    "theta, cost_history = gradient_descent(X3, y, theta, alpha, iterations)\n",
    "print('Final value of theta =', theta)\n",
    "print('cost_history =', cost_history)"
   ]
  },
  {
   "cell_type": "code",
   "execution_count": 56,
   "id": "2deef628",
   "metadata": {},
   "outputs": [
    {
     "data": {
      "text/plain": [
       "<matplotlib.legend.Legend at 0x1fc46e07070>"
      ]
     },
     "execution_count": 56,
     "metadata": {},
     "output_type": "execute_result"
    },
    {
     "data": {
      "image/png": "[encoded data removed]",
      "text/plain": [
       "<Figure size 720x432 with 1 Axes>"
      ]
     },
     "metadata": {
      "needs_background": "light"
     },
     "output_type": "display_data"
    }
   ],
   "source": [
    "# Since X is list of list (feature matrix) lets take values of column of index 1 only\n",
    "plt.scatter(X3[:,1], y, color='red', marker= '+', label= 'Training Data')\n",
    "plt.plot(X3[:,1],X3.dot(theta), color='green', label='Linear Regression')\n",
    "plt.rcParams[\"figure.figsize\"] = (10,6)\n",
    "plt.grid()\n",
    "plt.xlabel('Population of City in 10,000s')\n",
    "plt.ylabel('Profit in $10,000s')\n",
    "plt.title('Linear Regression Fit')\n",
    "plt.legend()"
   ]
  },
  {
   "cell_type": "code",
   "execution_count": 57,
   "id": "2e90bc56",
   "metadata": {},
   "outputs": [
    {
     "data": {
      "text/plain": [
       "Text(0.5, 1.0, 'Convergence of gradient descent')"
      ]
     },
     "execution_count": 57,
     "metadata": {},
     "output_type": "execute_result"
    },
    {
     "data": {
      "image/png": "[encoded data removed]",
      "text/plain": [
       "<Figure size 720x432 with 1 Axes>"
      ]
     },
     "metadata": {
      "needs_background": "light"
     },
     "output_type": "display_data"
    }
   ],
   "source": [
    "plt.plot(range(1, iterations + 1),cost_history, color='blue')\n",
    "plt.rcParams[\"figure.figsize\"] = (10,6)\n",
    "plt.grid()\n",
    "plt.xlabel('Number of iterations')\n",
    "plt.ylabel('Cost (J)')\n",
    "plt.title('Convergence of gradient descent')"
   ]
  },
  {
   "cell_type": "code",
   "execution_count": 58,
   "id": "d61c7fd5",
   "metadata": {},
   "outputs": [
    {
     "name": "stdout",
     "output_type": "stream",
     "text": [
      "Now all three training sets have been done.\n"
     ]
    }
   ],
   "source": [
    "print('Now all three training sets have been done.')"
   ]
  },
  {
   "cell_type": "code",
   "execution_count": 59,
   "id": "29e36534",
   "metadata": {},
   "outputs": [
    {
     "name": "stdout",
     "output_type": "stream",
     "text": [
      "Here are the answers to the Problem 1 Questions 1-4:\n"
     ]
    }
   ],
   "source": [
    "print('Here are the answers to the Problem 1 Questions 1-4:')"
   ]
  },
  {
   "cell_type": "code",
   "execution_count": 60,
   "id": "23e8a1b8",
   "metadata": {},
   "outputs": [
    {
     "name": "stdout",
     "output_type": "stream",
     "text": [
      "Answers for 1-4:\n",
      "1 - Linear models shown in the code above.\n",
      "2 - Final regression models and losses for variables above.\n",
      "3 - X... has the lower loss for explaining output Y\n",
      "4 - A higher learning rate seems to decrease the number of training\n",
      "iteration value over iterations. The final loss seems to seems to\n",
      "decrease as learning rate increases. This applies for these data sets.\n"
     ]
    }
   ],
   "source": [
    "print('Answers for 1-4:')\n",
    "print('1 - Linear models shown in the code above.')\n",
    "print('2 - Final regression models and losses for variables above.')\n",
    "print('3 - X... has the lower loss for explaining output Y')\n",
    "print('4 - A higher learning rate seems to decrease the number of training')\n",
    "print('iteration value over iterations. The final loss seems to seems to')\n",
    "print('decrease as learning rate increases. This applies for these data sets.')\n"
   ]
  },
  {
   "cell_type": "code",
   "execution_count": 61,
   "id": "c02379ba",
   "metadata": {},
   "outputs": [
    {
     "name": "stdout",
     "output_type": "stream",
     "text": [
      "Problem 2 Done Here:\n"
     ]
    }
   ],
   "source": [
    "print('Problem 2 Done Here:')"
   ]
  },
  {
   "cell_type": "code",
   "execution_count": 63,
   "id": "25aa9f90",
   "metadata": {},
   "outputs": [
    {
     "name": "stdout",
     "output_type": "stream",
     "text": [
      "Linear regression with gradient descent algorithm ran using all three variables.\n"
     ]
    }
   ],
   "source": [
    "print('Linear regression with gradient descent algorithm ran using all three variables.')"
   ]
  },
  {
   "cell_type": "code",
   "execution_count": 64,
   "id": "b38e2f40",
   "metadata": {},
   "outputs": [
    {
     "name": "stdout",
     "output_type": "stream",
     "text": [
      "X1 =  [0.04040404 0.08080808 0.12121212 0.16161616 0.2020202 ]\n",
      "y =  [2.6796499  2.96848981 3.25406475 3.53637472 3.81541972]\n",
      "m =  99\n",
      "X2 =  [0.13494949 0.82989899 1.52484848 2.21979798 2.91474747]\n",
      "y =  [2.6796499  2.96848981 3.25406475 3.53637472 3.81541972]\n",
      "m =  99\n",
      "X3 =  [0.88848485 1.3369697  1.78545455 2.23393939 2.68242424]\n",
      "y =  [2.6796499  2.96848981 3.25406475 3.53637472 3.81541972]\n",
      "m =  99\n"
     ]
    }
   ],
   "source": [
    "X1 = df.values[:, 0] # get input values from first column\n",
    "y = df.values[:, 3] # get output values from second column\n",
    "m = len(y) # Number of training examples\n",
    "print('X1 = ', X1[: 5]) # Show only first 5 records\n",
    "print('y = ', y[: 5])\n",
    "print('m = ', m)\n",
    "\n",
    "X2 = df.values[:, 1] # get input values from first column\n",
    "y = df.values[:, 3] # get output values from second column\n",
    "m = len(y) # Number of training examples\n",
    "print('X2 = ', X2[: 5]) # Show only first 5 records\n",
    "print('y = ', y[: 5])\n",
    "print('m = ', m)\n",
    "\n",
    "X3 = df.values[:, 2] # get input values from first column\n",
    "y = df.values[:, 3] # get output values from second column\n",
    "m = len(y) # Number of training examples\n",
    "print('X3 = ', X3[: 5]) # Show only first 5 records\n",
    "print('y = ', y[: 5])\n",
    "print('m = ', m)\n"
   ]
  },
  {
   "cell_type": "code",
   "execution_count": 65,
   "id": "8aeb961b",
   "metadata": {},
   "outputs": [
    {
     "name": "stdout",
     "output_type": "stream",
     "text": [
      "Problem Answers:\n"
     ]
    }
   ],
   "source": [
    "print('Problem Answers:')"
   ]
  },
  {
   "cell_type": "code",
   "execution_count": 66,
   "id": "dc9b6229",
   "metadata": {},
   "outputs": [
    {
     "name": "stdout",
     "output_type": "stream",
     "text": [
      "1 - The final linear model for X3 would probably work best, due to the data set having less cost\n"
     ]
    }
   ],
   "source": [
    "print('1 - The final linear model for X3 would probably work best, due to the data set having less cost')"
   ]
  },
  {
   "cell_type": "code",
   "execution_count": 67,
   "id": "515f8740",
   "metadata": {},
   "outputs": [
    {
     "name": "stdout",
     "output_type": "stream",
     "text": [
      "2 - loss over iteration can be plotted from X1-X3 above\n"
     ]
    }
   ],
   "source": [
    "print('2 - loss over iteration can be plotted from X1-X3 above')"
   ]
  },
  {
   "cell_type": "code",
   "execution_count": 68,
   "id": "2b32c6c2",
   "metadata": {},
   "outputs": [
    {
     "name": "stdout",
     "output_type": "stream",
     "text": [
      "3 - higher learning rate means lower cost and less iterations\n"
     ]
    }
   ],
   "source": [
    "print('3 - higher learning rate means lower cost and less iterations')"
   ]
  },
  {
   "cell_type": "code",
   "execution_count": 69,
   "id": "2f800508",
   "metadata": {},
   "outputs": [
    {
     "name": "stdout",
     "output_type": "stream",
     "text": [
      "4 - the value of y would be the same for X1, and different for X2 and X3\n"
     ]
    }
   ],
   "source": [
    "print('4 - the value of y would be the same for X1, and different for X2 and X3')"
   ]
  },
  {
   "cell_type": "code",
   "execution_count": 70,
   "id": "919420f6",
   "metadata": {},
   "outputs": [
    {
     "name": "stdout",
     "output_type": "stream",
     "text": [
      "because of the ratio of 1,1,1 versus other values\n"
     ]
    }
   ],
   "source": [
    "print('because of the ratio of 1,1,1 versus other values')"
   ]
  },
  {
   "cell_type": "code",
   "execution_count": null,
   "id": "e0169481",
   "metadata": {},
   "outputs": [],
   "source": []
  }
 ],
 "metadata": {
  "kernelspec": {
   "display_name": "Python 3",
   "language": "python",
   "name": "python3"
  },
  "language_info": {
   "codemirror_mode": {
    "name": "ipython",
    "version": 3
   },
   "file_extension": ".py",
   "mimetype": "text/x-python",
   "name": "python",
   "nbconvert_exporter": "python",
   "pygments_lexer": "ipython3",
   "version": "3.8.8"
  }
 },
 "nbformat": 4,
 "nbformat_minor": 5
}
