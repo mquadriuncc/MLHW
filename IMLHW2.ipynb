{
 "cells": [
  {
   "cell_type": "code",
   "execution_count": 65,
   "id": "1a83fec8",
   "metadata": {},
   "outputs": [],
   "source": [
    "# Homework 2\n",
    "# Mujeeb Quadri\n",
    "# 10/28/2021\n",
    "# SID: 801157040\n",
    "\n",
    "# The diabetes dataset from the given csv file\n",
    "# will used for building a logistic regression\n",
    "# binary classifier, a Naive Bayes binary classifier,\n",
    "# and those steps will be repeated using KFold cross-validation\n",
    "# for training and validation.\n",
    "\n",
    "# Importing necessary libraries here:\n",
    "import numpy as np\n",
    "import matplotlib.pyplot as plt\n",
    "import pandas as pd"
   ]
  },
  {
   "cell_type": "code",
   "execution_count": 66,
   "id": "0cd20465",
   "metadata": {},
   "outputs": [],
   "source": [
    "# Problem 1: Building a logistic regression binary classifier (for positive diabetes"
   ]
  },
  {
   "cell_type": "code",
   "execution_count": 67,
   "id": "071539d3",
   "metadata": {},
   "outputs": [],
   "source": [
    "# Loading diabetes csv as dataset:\n",
    "dataset = pd.read_csv('https://raw.githubusercontent.com/mquadriuncc/MLHW/main/diabetes.csv')"
   ]
  },
  {
   "cell_type": "code",
   "execution_count": 68,
   "id": "54ea0d14",
   "metadata": {},
   "outputs": [
    {
     "data": {
      "text/html": [
       "<div>\n",
       "<style scoped>\n",
       "    .dataframe tbody tr th:only-of-type {\n",
       "        vertical-align: middle;\n",
       "    }\n",
       "\n",
       "    .dataframe tbody tr th {\n",
       "        vertical-align: top;\n",
       "    }\n",
       "\n",
       "    .dataframe thead th {\n",
       "        text-align: right;\n",
       "    }\n",
       "</style>\n",
       "<table border=\"1\" class=\"dataframe\">\n",
       "  <thead>\n",
       "    <tr style=\"text-align: right;\">\n",
       "      <th></th>\n",
       "      <th>Pregnancies</th>\n",
       "      <th>Glucose</th>\n",
       "      <th>BloodPressure</th>\n",
       "      <th>SkinThickness</th>\n",
       "      <th>Insulin</th>\n",
       "      <th>BMI</th>\n",
       "      <th>DiabetesPedigreeFunction</th>\n",
       "      <th>Age</th>\n",
       "      <th>Outcome</th>\n",
       "    </tr>\n",
       "  </thead>\n",
       "  <tbody>\n",
       "    <tr>\n",
       "      <th>0</th>\n",
       "      <td>6</td>\n",
       "      <td>148</td>\n",
       "      <td>72</td>\n",
       "      <td>35</td>\n",
       "      <td>0</td>\n",
       "      <td>33.6</td>\n",
       "      <td>0.627</td>\n",
       "      <td>50</td>\n",
       "      <td>1</td>\n",
       "    </tr>\n",
       "    <tr>\n",
       "      <th>1</th>\n",
       "      <td>1</td>\n",
       "      <td>85</td>\n",
       "      <td>66</td>\n",
       "      <td>29</td>\n",
       "      <td>0</td>\n",
       "      <td>26.6</td>\n",
       "      <td>0.351</td>\n",
       "      <td>31</td>\n",
       "      <td>0</td>\n",
       "    </tr>\n",
       "    <tr>\n",
       "      <th>2</th>\n",
       "      <td>8</td>\n",
       "      <td>183</td>\n",
       "      <td>64</td>\n",
       "      <td>0</td>\n",
       "      <td>0</td>\n",
       "      <td>23.3</td>\n",
       "      <td>0.672</td>\n",
       "      <td>32</td>\n",
       "      <td>1</td>\n",
       "    </tr>\n",
       "    <tr>\n",
       "      <th>3</th>\n",
       "      <td>1</td>\n",
       "      <td>89</td>\n",
       "      <td>66</td>\n",
       "      <td>23</td>\n",
       "      <td>94</td>\n",
       "      <td>28.1</td>\n",
       "      <td>0.167</td>\n",
       "      <td>21</td>\n",
       "      <td>0</td>\n",
       "    </tr>\n",
       "    <tr>\n",
       "      <th>4</th>\n",
       "      <td>0</td>\n",
       "      <td>137</td>\n",
       "      <td>40</td>\n",
       "      <td>35</td>\n",
       "      <td>168</td>\n",
       "      <td>43.1</td>\n",
       "      <td>2.288</td>\n",
       "      <td>33</td>\n",
       "      <td>1</td>\n",
       "    </tr>\n",
       "  </tbody>\n",
       "</table>\n",
       "</div>"
      ],
      "text/plain": [
       "   Pregnancies  Glucose  BloodPressure  SkinThickness  Insulin   BMI  \\\n",
       "0            6      148             72             35        0  33.6   \n",
       "1            1       85             66             29        0  26.6   \n",
       "2            8      183             64              0        0  23.3   \n",
       "3            1       89             66             23       94  28.1   \n",
       "4            0      137             40             35      168  43.1   \n",
       "\n",
       "   DiabetesPedigreeFunction  Age  Outcome  \n",
       "0                     0.627   50        1  \n",
       "1                     0.351   31        0  \n",
       "2                     0.672   32        1  \n",
       "3                     0.167   21        0  \n",
       "4                     2.288   33        1  "
      ]
     },
     "execution_count": 68,
     "metadata": {},
     "output_type": "execute_result"
    }
   ],
   "source": [
    "# Displaying data from csv file\n",
    "dataset.head()"
   ]
  },
  {
   "cell_type": "code",
   "execution_count": 69,
   "id": "9d036405",
   "metadata": {},
   "outputs": [
    {
     "data": {
      "text/html": [
       "<div>\n",
       "<style scoped>\n",
       "    .dataframe tbody tr th:only-of-type {\n",
       "        vertical-align: middle;\n",
       "    }\n",
       "\n",
       "    .dataframe tbody tr th {\n",
       "        vertical-align: top;\n",
       "    }\n",
       "\n",
       "    .dataframe thead th {\n",
       "        text-align: right;\n",
       "    }\n",
       "</style>\n",
       "<table border=\"1\" class=\"dataframe\">\n",
       "  <thead>\n",
       "    <tr style=\"text-align: right;\">\n",
       "      <th></th>\n",
       "      <th>Pregnancies</th>\n",
       "      <th>Glucose</th>\n",
       "      <th>BloodPressure</th>\n",
       "      <th>SkinThickness</th>\n",
       "      <th>Insulin</th>\n",
       "      <th>BMI</th>\n",
       "      <th>DiabetesPedigreeFunction</th>\n",
       "      <th>Age</th>\n",
       "    </tr>\n",
       "  </thead>\n",
       "  <tbody>\n",
       "    <tr>\n",
       "      <th>0</th>\n",
       "      <td>6</td>\n",
       "      <td>148</td>\n",
       "      <td>72</td>\n",
       "      <td>35</td>\n",
       "      <td>0</td>\n",
       "      <td>33.6</td>\n",
       "      <td>0.627</td>\n",
       "      <td>50</td>\n",
       "    </tr>\n",
       "    <tr>\n",
       "      <th>1</th>\n",
       "      <td>1</td>\n",
       "      <td>85</td>\n",
       "      <td>66</td>\n",
       "      <td>29</td>\n",
       "      <td>0</td>\n",
       "      <td>26.6</td>\n",
       "      <td>0.351</td>\n",
       "      <td>31</td>\n",
       "    </tr>\n",
       "    <tr>\n",
       "      <th>2</th>\n",
       "      <td>8</td>\n",
       "      <td>183</td>\n",
       "      <td>64</td>\n",
       "      <td>0</td>\n",
       "      <td>0</td>\n",
       "      <td>23.3</td>\n",
       "      <td>0.672</td>\n",
       "      <td>32</td>\n",
       "    </tr>\n",
       "    <tr>\n",
       "      <th>3</th>\n",
       "      <td>1</td>\n",
       "      <td>89</td>\n",
       "      <td>66</td>\n",
       "      <td>23</td>\n",
       "      <td>94</td>\n",
       "      <td>28.1</td>\n",
       "      <td>0.167</td>\n",
       "      <td>21</td>\n",
       "    </tr>\n",
       "    <tr>\n",
       "      <th>4</th>\n",
       "      <td>0</td>\n",
       "      <td>137</td>\n",
       "      <td>40</td>\n",
       "      <td>35</td>\n",
       "      <td>168</td>\n",
       "      <td>43.1</td>\n",
       "      <td>2.288</td>\n",
       "      <td>33</td>\n",
       "    </tr>\n",
       "    <tr>\n",
       "      <th>5</th>\n",
       "      <td>5</td>\n",
       "      <td>116</td>\n",
       "      <td>74</td>\n",
       "      <td>0</td>\n",
       "      <td>0</td>\n",
       "      <td>25.6</td>\n",
       "      <td>0.201</td>\n",
       "      <td>30</td>\n",
       "    </tr>\n",
       "    <tr>\n",
       "      <th>6</th>\n",
       "      <td>3</td>\n",
       "      <td>78</td>\n",
       "      <td>50</td>\n",
       "      <td>32</td>\n",
       "      <td>88</td>\n",
       "      <td>31.0</td>\n",
       "      <td>0.248</td>\n",
       "      <td>26</td>\n",
       "    </tr>\n",
       "    <tr>\n",
       "      <th>7</th>\n",
       "      <td>10</td>\n",
       "      <td>115</td>\n",
       "      <td>0</td>\n",
       "      <td>0</td>\n",
       "      <td>0</td>\n",
       "      <td>35.3</td>\n",
       "      <td>0.134</td>\n",
       "      <td>29</td>\n",
       "    </tr>\n",
       "    <tr>\n",
       "      <th>8</th>\n",
       "      <td>2</td>\n",
       "      <td>197</td>\n",
       "      <td>70</td>\n",
       "      <td>45</td>\n",
       "      <td>543</td>\n",
       "      <td>30.5</td>\n",
       "      <td>0.158</td>\n",
       "      <td>53</td>\n",
       "    </tr>\n",
       "    <tr>\n",
       "      <th>9</th>\n",
       "      <td>8</td>\n",
       "      <td>125</td>\n",
       "      <td>96</td>\n",
       "      <td>0</td>\n",
       "      <td>0</td>\n",
       "      <td>0.0</td>\n",
       "      <td>0.232</td>\n",
       "      <td>54</td>\n",
       "    </tr>\n",
       "    <tr>\n",
       "      <th>10</th>\n",
       "      <td>4</td>\n",
       "      <td>110</td>\n",
       "      <td>92</td>\n",
       "      <td>0</td>\n",
       "      <td>0</td>\n",
       "      <td>37.6</td>\n",
       "      <td>0.191</td>\n",
       "      <td>30</td>\n",
       "    </tr>\n",
       "    <tr>\n",
       "      <th>11</th>\n",
       "      <td>10</td>\n",
       "      <td>168</td>\n",
       "      <td>74</td>\n",
       "      <td>0</td>\n",
       "      <td>0</td>\n",
       "      <td>38.0</td>\n",
       "      <td>0.537</td>\n",
       "      <td>34</td>\n",
       "    </tr>\n",
       "    <tr>\n",
       "      <th>12</th>\n",
       "      <td>10</td>\n",
       "      <td>139</td>\n",
       "      <td>80</td>\n",
       "      <td>0</td>\n",
       "      <td>0</td>\n",
       "      <td>27.1</td>\n",
       "      <td>1.441</td>\n",
       "      <td>57</td>\n",
       "    </tr>\n",
       "    <tr>\n",
       "      <th>13</th>\n",
       "      <td>1</td>\n",
       "      <td>189</td>\n",
       "      <td>60</td>\n",
       "      <td>23</td>\n",
       "      <td>846</td>\n",
       "      <td>30.1</td>\n",
       "      <td>0.398</td>\n",
       "      <td>59</td>\n",
       "    </tr>\n",
       "    <tr>\n",
       "      <th>14</th>\n",
       "      <td>5</td>\n",
       "      <td>166</td>\n",
       "      <td>72</td>\n",
       "      <td>19</td>\n",
       "      <td>175</td>\n",
       "      <td>25.8</td>\n",
       "      <td>0.587</td>\n",
       "      <td>51</td>\n",
       "    </tr>\n",
       "  </tbody>\n",
       "</table>\n",
       "</div>"
      ],
      "text/plain": [
       "    Pregnancies  Glucose  BloodPressure  SkinThickness  Insulin   BMI  \\\n",
       "0             6      148             72             35        0  33.6   \n",
       "1             1       85             66             29        0  26.6   \n",
       "2             8      183             64              0        0  23.3   \n",
       "3             1       89             66             23       94  28.1   \n",
       "4             0      137             40             35      168  43.1   \n",
       "5             5      116             74              0        0  25.6   \n",
       "6             3       78             50             32       88  31.0   \n",
       "7            10      115              0              0        0  35.3   \n",
       "8             2      197             70             45      543  30.5   \n",
       "9             8      125             96              0        0   0.0   \n",
       "10            4      110             92              0        0  37.6   \n",
       "11           10      168             74              0        0  38.0   \n",
       "12           10      139             80              0        0  27.1   \n",
       "13            1      189             60             23      846  30.1   \n",
       "14            5      166             72             19      175  25.8   \n",
       "\n",
       "    DiabetesPedigreeFunction  Age  \n",
       "0                      0.627   50  \n",
       "1                      0.351   31  \n",
       "2                      0.672   32  \n",
       "3                      0.167   21  \n",
       "4                      2.288   33  \n",
       "5                      0.201   30  \n",
       "6                      0.248   26  \n",
       "7                      0.134   29  \n",
       "8                      0.158   53  \n",
       "9                      0.232   54  \n",
       "10                     0.191   30  \n",
       "11                     0.537   34  \n",
       "12                     1.441   57  \n",
       "13                     0.398   59  \n",
       "14                     0.587   51  "
      ]
     },
     "execution_count": 69,
     "metadata": {},
     "output_type": "execute_result"
    }
   ],
   "source": [
    "# From Data set:\n",
    "X = dataset.iloc[:, [0,1,2,3,4,5,6,7]] \n",
    "Y = dataset.iloc[:, 8]\n",
    "# Displaying data:\n",
    "X[0:15]"
   ]
  },
  {
   "cell_type": "code",
   "execution_count": 70,
   "id": "3e0358a1",
   "metadata": {},
   "outputs": [],
   "source": [
    "#Now we’ll split our Data set into Training Data and Test Data. Training data will be u\n",
    "#Logistic model and Test data will be used to validate our model. We’ll use Sklearn to \n",
    "from sklearn.model_selection import train_test_split \n",
    "X_train, X_test, Y_train, Y_test = train_test_split(X, Y, test_size = 0.2, random_state\n",
    "= 0)  # Test size given from 80/20 split, 20 for test split.                                                                                          "
   ]
  },
  {
   "cell_type": "code",
   "execution_count": 71,
   "id": "5d409a65",
   "metadata": {},
   "outputs": [],
   "source": [
    "#Now we’ll do feature scaling to scale our data between 0 and 1 to get better accuracy.\n",
    "#Here Scaling is important because there is a huge difference between Age and Estimated\n",
    " \n",
    "from sklearn.preprocessing import StandardScaler \n",
    "sc_X = StandardScaler() \n",
    "X_train = sc_X.fit_transform(X_train) \n",
    "X_test = sc_X.transform(X_test) "
   ]
  },
  {
   "cell_type": "code",
   "execution_count": 72,
   "id": "939a58d6",
   "metadata": {},
   "outputs": [
    {
     "data": {
      "text/plain": [
       "LogisticRegression(random_state=0)"
      ]
     },
     "execution_count": 72,
     "metadata": {},
     "output_type": "execute_result"
    }
   ],
   "source": [
    "#Import LogisticRegression from sklearn.linear_model \n",
    "#Make an instance classifier of the object LogisticRegression and give random_state =  \n",
    "from sklearn.linear_model import LogisticRegression \n",
    "classifier = LogisticRegression(random_state=0) \n",
    "classifier.fit(X_train, Y_train)"
   ]
  },
  {
   "cell_type": "code",
   "execution_count": 73,
   "id": "6911e741",
   "metadata": {
    "scrolled": false
   },
   "outputs": [
    {
     "data": {
      "text/plain": [
       "array([1, 0, 0, 1, 0, 0, 1, 1, 0], dtype=int64)"
      ]
     },
     "execution_count": 73,
     "metadata": {},
     "output_type": "execute_result"
    }
   ],
   "source": [
    "Y_pred = classifier.predict(X_test)\n",
    "Y_pred[0:9]"
   ]
  },
  {
   "cell_type": "code",
   "execution_count": 74,
   "id": "9fefebd5",
   "metadata": {},
   "outputs": [
    {
     "name": "stdout",
     "output_type": "stream",
     "text": [
      "[[98  9]\n",
      " [18 29]]\n"
     ]
    }
   ],
   "source": [
    "from sklearn.metrics import confusion_matrix \n",
    "con_mat=confusion_matrix(Y_test, Y_pred)\n",
    "print(con_mat)"
   ]
  },
  {
   "cell_type": "code",
   "execution_count": 75,
   "id": "c26e6804",
   "metadata": {
    "scrolled": true
   },
   "outputs": [
    {
     "name": "stdout",
     "output_type": "stream",
     "text": [
      "Value of Accuracy: 0.8246753246753247\n",
      "Value of Precision: 0.7631578947368421\n",
      "Value of Recall: 0.6170212765957447\n"
     ]
    }
   ],
   "source": [
    "# Getting first set of metrics (accuracy, precision, and recall)\n",
    "\n",
    "from sklearn import metrics\n",
    "print(\"Value of Accuracy:\",metrics.accuracy_score(Y_test, Y_pred))\n",
    "print(\"Value of Precision:\",metrics.precision_score(Y_test, Y_pred))\n",
    "print(\"Value of Recall:\",metrics.recall_score(Y_test, Y_pred))"
   ]
  },
  {
   "cell_type": "code",
   "execution_count": 76,
   "id": "bc28dd60",
   "metadata": {
    "scrolled": false
   },
   "outputs": [
    {
     "data": {
      "text/plain": [
       "Text(0.5, 257.44, 'Predicted Value')"
      ]
     },
     "execution_count": 76,
     "metadata": {},
     "output_type": "execute_result"
    },
    {
     "data": {
      "image/png": "[encoded data removed]",
      "text/plain": [
       "<Figure size 432x288 with 2 Axes>"
      ]
     },
     "metadata": {
      "needs_background": "light"
     },
     "output_type": "display_data"
    }
   ],
   "source": [
    "#Confusion Matrix Graph\n",
    "import seaborn as sns\n",
    "class_names=[0,1] # name of classes\n",
    "fig, ax = plt.subplots()\n",
    "tick_marks = np.arange(len(class_names))\n",
    "plt.xticks(tick_marks, class_names)\n",
    "plt.yticks(tick_marks, class_names)\n",
    "# create heatmap\n",
    "sns.heatmap(pd.DataFrame(con_mat), annot=True, cmap=\"YlGnBu\" ,fmt='g')\n",
    "ax.xaxis.set_label_position(\"top\")\n",
    "plt.tight_layout()\n",
    "plt.title('Logistic Regression - Confusion Matrix', y=1.1)\n",
    "plt.ylabel('Actual Value')\n",
    "plt.xlabel('Predicted Value')"
   ]
  },
  {
   "cell_type": "code",
   "execution_count": 77,
   "id": "17baee9a",
   "metadata": {},
   "outputs": [],
   "source": [
    "# Problem 2: Building Naive Bayes binary classifier (for positive diabetes) "
   ]
  },
  {
   "cell_type": "code",
   "execution_count": 78,
   "id": "f15f3ff4",
   "metadata": {},
   "outputs": [],
   "source": [
    "# Using Naive Bayes:\n",
    "from sklearn.naive_bayes import GaussianNB\n",
    "classifier = GaussianNB()\n",
    "classifier.fit(X_train, Y_train)\n",
    "Y_pred = classifier.predict(X_test)"
   ]
  },
  {
   "cell_type": "code",
   "execution_count": 79,
   "id": "9e8ba610",
   "metadata": {},
   "outputs": [
    {
     "name": "stdout",
     "output_type": "stream",
     "text": [
      "[[93 14]\n",
      " [18 29]]\n",
      "Value of Accuracy: 0.7922077922077922\n",
      "Value of Precision: 0.6744186046511628\n",
      "Value of Recall: 0.6170212765957447\n"
     ]
    }
   ],
   "source": [
    "con_mat2 = confusion_matrix(Y_test, Y_pred)\n",
    "print(con_mat2)\n",
    "print(\"Value of Accuracy:\",metrics.accuracy_score(Y_test, Y_pred))\n",
    "print(\"Value of Precision:\",metrics.precision_score(Y_test, Y_pred))\n",
    "print(\"Value of Recall:\",metrics.recall_score(Y_test, Y_pred))"
   ]
  },
  {
   "cell_type": "code",
   "execution_count": 80,
   "id": "e3af385a",
   "metadata": {
    "scrolled": true
   },
   "outputs": [
    {
     "data": {
      "text/plain": [
       "Text(0.5, 257.44, 'Predicted Value')"
      ]
     },
     "execution_count": 80,
     "metadata": {},
     "output_type": "execute_result"
    },
    {
     "data": {
      "image/png": "[encoded data removed]",
      "text/plain": [
       "<Figure size 432x288 with 2 Axes>"
      ]
     },
     "metadata": {
      "needs_background": "light"
     },
     "output_type": "display_data"
    }
   ],
   "source": [
    "# Class names:\n",
    "class_names=[0,1]\n",
    "fig, ax = plt.subplots()\n",
    "tick_marks = np.arange(len(class_names))\n",
    "plt.xticks(tick_marks, class_names)\n",
    "plt.yticks(tick_marks, class_names)\n",
    "# create heatmap\n",
    "sns.heatmap(pd.DataFrame(cn_m2), annot=True, cmap=\"YlGnBu\" ,fmt='g')\n",
    "ax.xaxis.set_label_position(\"top\")\n",
    "plt.tight_layout()\n",
    "plt.title('Naive Bayes - Confusion Matrix', y=1.1)\n",
    "plt.ylabel('Actual Value')\n",
    "plt.xlabel('Predicted Value')"
   ]
  },
  {
   "cell_type": "code",
   "execution_count": 81,
   "id": "a049379c",
   "metadata": {},
   "outputs": [],
   "source": [
    "# Problem 3: Problem 1 repeated using KFold cross-validation"
   ]
  },
  {
   "cell_type": "code",
   "execution_count": 82,
   "id": "097b2e0b",
   "metadata": {
    "scrolled": false
   },
   "outputs": [
    {
     "name": "stdout",
     "output_type": "stream",
     "text": [
      "Results for 5 KFolds:\n",
      "Value of Accuracy: 0.7564764183185236\n",
      "Value of Precision: 0.6652269630530501\n",
      "Value of Recall: 0.600860189563338\n"
     ]
    }
   ],
   "source": [
    "# Importing libraries for KFolds, score, cross validation, and the mean:\n",
    "from sklearn.model_selection import KFold\n",
    "from sklearn.metrics import make_scorer, accuracy_score, precision_score, recall_score\n",
    "from sklearn.model_selection import cross_validate\n",
    "from numpy import mean\n",
    "\n",
    "# The KFolds will be represented by n_splits, 5, followed by 10:\n",
    "KF5 = KFold(n_splits=5, random_state=1, shuffle=True)\n",
    "model = GaussianNB()\n",
    "\n",
    "score = ['accuracy','precision','recall']\n",
    "\n",
    "result = cross_validate(model, X, Y, scoring=score, cv=KF5, n_jobs=-1)\n",
    "\n",
    "print(\"Results for 5 KFolds:\")\n",
    "\n",
    "print(\"Value of Accuracy:\",mean(final_scores['test_accuracy']))\n",
    "print(\"Value of Precision:\",mean(final_scores['test_precision']))\n",
    "print(\"Value of Recall:\",mean(final_scores['test_recall']))"
   ]
  },
  {
   "cell_type": "code",
   "execution_count": 83,
   "id": "daea12ee",
   "metadata": {},
   "outputs": [
    {
     "name": "stdout",
     "output_type": "stream",
     "text": [
      "Results for 10 KFolds:\n",
      "Value of Accuracy: 0.7564764183185236\n",
      "Value of Precision: 0.6652269630530501\n",
      "Value of Recall: 0.600860189563338\n"
     ]
    }
   ],
   "source": [
    "KF10 = KFold(n_splits=10, random_state=1, shuffle=True)\n",
    "model = GaussianNB()\n",
    "\n",
    "score = ['accuracy','precision','recall']\n",
    "result = cross_validate(model, X, Y, scoring=score, cv=KF10, n_jobs=-1)\n",
    "\n",
    "print(\"Results for 10 KFolds:\")\n",
    "\n",
    "print(\"Value of Accuracy:\",mean(final_scores['test_accuracy']))\n",
    "print(\"Value of Precision:\",mean(final_scores['test_precision']))\n",
    "print(\"Value of Recall:\",mean(final_scores['test_recall']))"
   ]
  },
  {
   "cell_type": "code",
   "execution_count": 84,
   "id": "096b6fe9",
   "metadata": {},
   "outputs": [],
   "source": [
    "# When comparing Problem 3 to Problem 1,\n",
    "# Both the 5 KFold and 10 KFold cross validation\n",
    "# methods resulted in lower values for all three\n",
    "# metrics."
   ]
  },
  {
   "cell_type": "code",
   "execution_count": 85,
   "id": "f25a4774",
   "metadata": {},
   "outputs": [],
   "source": [
    "# Problem 4: Problem 2 repeated using KFold cross-validation"
   ]
  },
  {
   "cell_type": "code",
   "execution_count": 86,
   "id": "733cfe71",
   "metadata": {},
   "outputs": [
    {
     "name": "stdout",
     "output_type": "stream",
     "text": [
      "Results for 5 KFolds:\n",
      "Value of Accuracy: 0.7564764183185236\n",
      "Value of Precision: 0.6652269630530501\n",
      "Value of Recall: 0.600860189563338\n"
     ]
    }
   ],
   "source": [
    "# The KFolds will be represented by n_splits, 5, followed by 10:\n",
    "KF5 = KFold(n_splits=5, random_state=1, shuffle=True)\n",
    "model = GaussianNB()\n",
    "\n",
    "score = ['accuracy','precision','recall']\n",
    "result = cross_validate(model, X, Y, scoring=score, cv=KF5, n_jobs=-1)\n",
    "\n",
    "print(\"Results for 5 KFolds:\")\n",
    "\n",
    "print(\"Value of Accuracy:\",mean(final_scores['test_accuracy']))\n",
    "print(\"Value of Precision:\",mean(final_scores['test_precision']))\n",
    "print(\"Value of Recall:\",mean(final_scores['test_recall']))"
   ]
  },
  {
   "cell_type": "code",
   "execution_count": 87,
   "id": "6a10c269",
   "metadata": {},
   "outputs": [
    {
     "name": "stdout",
     "output_type": "stream",
     "text": [
      "Results for 10 KFolds:\n",
      "Value of Accuracy: 0.7564764183185236\n",
      "Value of Precision: 0.6652269630530501\n",
      "Value of Recall: 0.600860189563338\n"
     ]
    }
   ],
   "source": [
    "KF10 = KFold(n_splits=10, random_state=1, shuffle=True)\n",
    "model = GaussianNB()\n",
    "\n",
    "score = ['accuracy','precision','recall']\n",
    "result = cross_validate(model, X, Y, scoring=score, cv=KF10, n_jobs=-1)\n",
    "\n",
    "print(\"Results for 10 KFolds:\")\n",
    "\n",
    "print(\"Value of Accuracy:\",mean(final_scores['test_accuracy']))\n",
    "print(\"Value of Precision:\",mean(final_scores['test_precision']))\n",
    "print(\"Value of Recall:\",mean(final_scores['test_recall']))"
   ]
  },
  {
   "cell_type": "code",
   "execution_count": 88,
   "id": "14166dbb",
   "metadata": {},
   "outputs": [],
   "source": [
    "# This makes sense, as it shows that KFold cross\n",
    "# validation results in data that is less\n",
    "# useful for accuracy, precision, and recall.\n",
    "\n",
    "# This is the case for either 5 KFold or 10 KFold,\n",
    "# when used for both evaluation in Problem 1 or 2."
   ]
  },
  {
   "cell_type": "code",
   "execution_count": null,
   "id": "f35643c8",
   "metadata": {},
   "outputs": [],
   "source": []
  }
 ],
 "metadata": {
  "kernelspec": {
   "display_name": "Python 3",
   "language": "python",
   "name": "python3"
  },
  "language_info": {
   "codemirror_mode": {
    "name": "ipython",
    "version": 3
   },
   "file_extension": ".py",
   "mimetype": "text/x-python",
   "name": "python",
   "nbconvert_exporter": "python",
   "pygments_lexer": "ipython3",
   "version": "3.8.8"
  }
 },
 "nbformat": 4,
 "nbformat_minor": 5
}
