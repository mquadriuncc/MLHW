{
 "cells": [
  {
   "cell_type": "code",
   "execution_count": 1,
   "id": "d3d94f49",
   "metadata": {},
   "outputs": [],
   "source": [
    "import numpy as np\n",
    "import pandas as pd\n",
    "import matplotlib.pyplot as plt"
   ]
  },
  {
   "cell_type": "code",
   "execution_count": 2,
   "id": "cb91c6f2",
   "metadata": {},
   "outputs": [
    {
     "data": {
      "text/plain": [
       "99"
      ]
     },
     "execution_count": 2,
     "metadata": {},
     "output_type": "execute_result"
    }
   ],
   "source": [
    "df = pd.read_csv('https://raw.githubusercontent.com/mquadriuncc/MLHW/main/D3.csv')\n",
    "df.head() # To get first n rows from the dataset default value of n is 5\n",
    "M=len(df)\n",
    "M"
   ]
  },
  {
   "cell_type": "code",
   "execution_count": 4,
   "id": "423c0623",
   "metadata": {},
   "outputs": [
    {
     "name": "stdout",
     "output_type": "stream",
     "text": [
      "X =  [0.04040404 0.08080808 0.12121212 0.16161616 0.2020202 ]\n",
      "y =  [2.6796499  2.96848981 3.25406475 3.53637472 3.81541972]\n",
      "m =  99\n"
     ]
    }
   ],
   "source": [
    "X = df.values[:, 0] # get input values from first column\n",
    "y = df.values[:, 3] # get output values from second column\n",
    "m = len(y) # Number of training examples\n",
    "print('X = ', X[: 5]) # Show only first 5 records\n",
    "print('y = ', y[: 5])\n",
    "print('m = ', m)"
   ]
  },
  {
   "cell_type": "code",
   "execution_count": null,
   "id": "2af5af1a",
   "metadata": {},
   "outputs": [],
   "source": []
  }
 ],
 "metadata": {
  "kernelspec": {
   "display_name": "Python 3",
   "language": "python",
   "name": "python3"
  },
  "language_info": {
   "codemirror_mode": {
    "name": "ipython",
    "version": 3
   },
   "file_extension": ".py",
   "mimetype": "text/x-python",
   "name": "python",
   "nbconvert_exporter": "python",
   "pygments_lexer": "ipython3",
   "version": "3.8.8"
  }
 },
 "nbformat": 4,
 "nbformat_minor": 5
}
